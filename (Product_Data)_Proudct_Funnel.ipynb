{
  "nbformat": 4,
  "nbformat_minor": 0,
  "metadata": {
    "colab": {
      "provenance": []
    },
    "kernelspec": {
      "name": "python3",
      "display_name": "Python 3"
    },
    "language_info": {
      "name": "python"
    }
  },
  "cells": [
    {
      "cell_type": "code",
      "source": [
        "import pandas as pd\n",
        "import numpy as np\n",
        "from datetime import datetime, timedelta\n",
        "import random\n",
        "\n",
        "# Set seed for reproducibility\n",
        "random.seed(42)\n",
        "np.random.seed(42)\n",
        "\n",
        "# Simulation settings\n",
        "n_users = 1000\n",
        "start_date = datetime(2025, 7, 1)\n",
        "event_steps = ['visit', 'signup', 'try_feature', 'purchase']\n",
        "\n",
        "# Helper function to simulate user journey\n",
        "def simulate_user_journey(user_id):\n",
        "    events = []\n",
        "    current_time = start_date + timedelta(days=random.randint(0, 15), hours=random.randint(0, 23), minutes=random.randint(0, 59))\n",
        "\n",
        "    for i, step in enumerate(event_steps):\n",
        "        # Simulate drop-off: each step has a decreasing chance of happening\n",
        "        if random.random() < (0.9 - i * 0.2):  # e.g., visit 90%, signup 70%, try_feature 50%, purchase 30%\n",
        "            events.append({\n",
        "                'user_id': user_id,\n",
        "                'event': step,\n",
        "                'timestamp': current_time\n",
        "            })\n",
        "            # Move time forward randomly between steps\n",
        "            current_time += timedelta(minutes=random.randint(1, 20))\n",
        "        else:\n",
        "            break\n",
        "    return events\n",
        "\n",
        "# Generate data for all users\n",
        "all_events = []\n",
        "for uid in range(1, n_users + 1):\n",
        "    all_events.extend(simulate_user_journey(uid))\n",
        "\n",
        "# Convert to DataFrame\n",
        "df = pd.DataFrame(all_events)\n",
        "\n",
        "# Show sample and summary\n",
        "df.head(), df['event'].value_counts()\n"
      ],
      "metadata": {
        "colab": {
          "base_uri": "https://localhost:8080/"
        },
        "id": "MXzf9T_AmBzk",
        "outputId": "c56bd47b-c672-476e-aaad-c81aa2673678"
      },
      "execution_count": 1,
      "outputs": [
        {
          "output_type": "execute_result",
          "data": {
            "text/plain": [
              "(   user_id   event           timestamp\n",
              " 0        1   visit 2025-07-04 00:47:00\n",
              " 1        1  signup 2025-07-04 00:55:00\n",
              " 2        2   visit 2025-07-03 18:27:00\n",
              " 3        2  signup 2025-07-03 18:30:00\n",
              " 4        3   visit 2025-07-07 22:41:00,\n",
              " event\n",
              " visit          915\n",
              " signup         649\n",
              " try_feature    334\n",
              " purchase       113\n",
              " Name: count, dtype: int64)"
            ]
          },
          "metadata": {},
          "execution_count": 1
        }
      ]
    },
    {
      "cell_type": "code",
      "source": [
        "df.to_csv('user_journey_data.csv', index=False)"
      ],
      "metadata": {
        "id": "AUYsX4wcmL8K"
      },
      "execution_count": 4,
      "outputs": []
    }
  ]
}